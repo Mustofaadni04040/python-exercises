{
 "cells": [
  {
   "cell_type": "markdown",
   "id": "468c8d5f-1e56-43d8-8025-9463680f10da",
   "metadata": {},
   "source": [
    "# Implicit = Internally by python\n",
    "# Explicit = By the programmer"
   ]
  },
  {
   "cell_type": "code",
   "execution_count": 2,
   "id": "8c7819ec-908b-4bd0-a2ed-2cf90b250962",
   "metadata": {},
   "outputs": [
    {
     "name": "stdout",
     "output_type": "stream",
     "text": [
      "10.5\n"
     ]
    },
    {
     "data": {
      "text/plain": [
       "float"
      ]
     },
     "execution_count": 2,
     "metadata": {},
     "output_type": "execute_result"
    }
   ],
   "source": [
    "# implicit\n",
    "\n",
    "print(5 + 5.5)\n",
    "type(5.5)"
   ]
  },
  {
   "cell_type": "code",
   "execution_count": 3,
   "id": "5d87348f-bb1d-47e1-86f3-a785f16aebd2",
   "metadata": {},
   "outputs": [
    {
     "name": "stdout",
     "output_type": "stream",
     "text": [
      "8\n"
     ]
    }
   ],
   "source": [
    "# explicit\n",
    "\n",
    "print(4 + int(\"4\"))"
   ]
  },
  {
   "cell_type": "code",
   "execution_count": null,
   "id": "90bfd7be-f912-419c-a28e-b7cf998b80de",
   "metadata": {},
   "outputs": [],
   "source": []
  }
 ],
 "metadata": {
  "kernelspec": {
   "display_name": "Python 3 (ipykernel)",
   "language": "python",
   "name": "python3"
  },
  "language_info": {
   "codemirror_mode": {
    "name": "ipython",
    "version": 3
   },
   "file_extension": ".py",
   "mimetype": "text/x-python",
   "name": "python",
   "nbconvert_exporter": "python",
   "pygments_lexer": "ipython3",
   "version": "3.12.10"
  }
 },
 "nbformat": 4,
 "nbformat_minor": 5
}
