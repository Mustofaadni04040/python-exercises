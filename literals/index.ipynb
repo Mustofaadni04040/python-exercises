{
 "cells": [
  {
   "cell_type": "code",
   "execution_count": 1,
   "id": "fd38bb45-5a6e-40e7-8c56-af25b250bbb6",
   "metadata": {},
   "outputs": [
    {
     "name": "stdout",
     "output_type": "stream",
     "text": [
      "3\n"
     ]
    }
   ],
   "source": [
    "a = 3\n",
    "\n",
    "print(a)"
   ]
  },
  {
   "cell_type": "code",
   "execution_count": 3,
   "id": "6051ca3a-26f4-4d2b-9da4-8dc52bd90782",
   "metadata": {},
   "outputs": [
    {
     "name": "stdout",
     "output_type": "stream",
     "text": [
      "10\n",
      "1000\n",
      "200\n",
      "300\n"
     ]
    }
   ],
   "source": [
    "a = 0b1010 # binary literal\n",
    "b = 1000 # decimal literal\n",
    "c = 0o310 # octal literal\n",
    "d = 0x12c # hexadecimal literal\n",
    "\n",
    "print(a)\n",
    "print(b)\n",
    "print(c)\n",
    "print(d)"
   ]
  },
  {
   "cell_type": "code",
   "execution_count": 4,
   "id": "7e7c4c6d-4982-4617-a30b-c30f5d12b84c",
   "metadata": {},
   "outputs": [],
   "source": [
    "# float literal\n",
    "float_1 = 10.5\n",
    "float_2 = 1.5e2 # 1.5 * 10pangkat2\n",
    "float_3 = 1.5e-3 # 1.5 * 10pangkat-3"
   ]
  },
  {
   "cell_type": "code",
   "execution_count": 8,
   "id": "437971e0-6d43-4979-8a87-8282baa812e6",
   "metadata": {},
   "outputs": [
    {
     "name": "stdout",
     "output_type": "stream",
     "text": [
      "<class 'complex'>\n",
      "0.0\n",
      "3.14\n"
     ]
    }
   ],
   "source": [
    "x = 3.14j\n",
    "\n",
    "print(type(x))\n",
    "print(x.real)\n",
    "print(x.imag)"
   ]
  },
  {
   "cell_type": "code",
   "execution_count": null,
   "id": "e6bb3afc-7963-4251-9365-e3606e63a76f",
   "metadata": {},
   "outputs": [],
   "source": []
  }
 ],
 "metadata": {
  "kernelspec": {
   "display_name": "Python 3 (ipykernel)",
   "language": "python",
   "name": "python3"
  },
  "language_info": {
   "codemirror_mode": {
    "name": "ipython",
    "version": 3
   },
   "file_extension": ".py",
   "mimetype": "text/x-python",
   "name": "python",
   "nbconvert_exporter": "python",
   "pygments_lexer": "ipython3",
   "version": "3.12.10"
  }
 },
 "nbformat": 4,
 "nbformat_minor": 5
}
